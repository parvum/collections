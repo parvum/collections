{
 "cells": [
  {
   "cell_type": "markdown",
   "metadata": {},
   "source": [
    "### The simplest"
   ]
  },
  {
   "cell_type": "code",
   "execution_count": 1,
   "metadata": {},
   "outputs": [
    {
     "name": "stdout",
     "output_type": "stream",
     "text": [
      "0.8500000000000001\n"
     ]
    }
   ],
   "source": [
    "weight = 0.1\n",
    "def neural_network(input, weight):\n",
    "    prediction = input * weight\n",
    "    return prediction\n",
    "\n",
    "number_of_toes = [8.5, 9.5, 10, 9]\n",
    "input = number_of_toes[0]\n",
    "pred = neural_network(input,weight)\n",
    "print(pred)"
   ]
  },
  {
   "cell_type": "code",
   "execution_count": 4,
   "metadata": {},
   "outputs": [
    {
     "name": "stdout",
     "output_type": "stream",
     "text": [
      "0.9800000000000001\n",
      "0.9800000000000001\n"
     ]
    }
   ],
   "source": [
    "def weighted_sum(a, b):\n",
    "    assert(len(a) == len(b))\n",
    "    output = 0\n",
    "    for i in range(len(a)):\n",
    "        output += a[i] * b[i]\n",
    "    return output\n",
    "\n",
    "weights = [0.1, 0.2, 0] \n",
    "    \n",
    "def neural_network(input, weights):\n",
    "    pred = weighted_sum(input,weights)\n",
    "    return pred\n",
    "\n",
    "toes =  [8.5, 9.5, 9.9, 9.0]\n",
    "wlrec = [0.65, 0.8, 0.8, 0.9]\n",
    "nfans = [1.2, 1.3, 0.5, 1.0]\n",
    "\n",
    "# Input corresponds to every entry\n",
    "# for the first game of the season.\n",
    "\n",
    "input = [toes[0],wlrec[0],nfans[0]]\n",
    "pred = neural_network(input,weights)\n",
    "\n",
    "print(pred)\n",
    "print(08.5*0.1+0.65*0.2+1.2*0)"
   ]
  },
  {
   "cell_type": "code",
   "execution_count": 5,
   "metadata": {},
   "outputs": [
    {
     "name": "stdout",
     "output_type": "stream",
     "text": [
      "0.9800000000000001\n"
     ]
    }
   ],
   "source": [
    "import numpy as np\n",
    "weights = np.array([0.1, 0.2, 0])\n",
    "def neural_network(input, weights):\n",
    "    prediction = input.dot(weights)\n",
    "    return prediction\n",
    "    \n",
    "toes =  np.array([8.5, 9.5, 9.9, 9.0])\n",
    "wlrec = np.array([0.65, 0.8, 0.8, 0.9])\n",
    "nfans = np.array([1.2, 1.3, 0.5, 1.0])\n",
    "\n",
    "# Input corresponds to every entry\n",
    "# for the first game of the season.\n",
    "\n",
    "input = np.array([toes[0],wlrec[0],nfans[0]])\n",
    "pred = neural_network(input, weights)\n",
    "\n",
    "print(pred)"
   ]
  },
  {
   "cell_type": "code",
   "execution_count": 8,
   "metadata": {},
   "outputs": [
    {
     "name": "stdout",
     "output_type": "stream",
     "text": [
      "[0.195, 0.13, 0.5850000000000001]\n",
      "[0.195, 0.13, 0.5850000000000001]\n"
     ]
    }
   ],
   "source": [
    "def ele_multiply(a, b):\n",
    "    output = [0, 0, 0]\n",
    "    assert(len(output) == len(b))\n",
    "    for i in range(len(b)):\n",
    "        output[i] = a * b[i]\n",
    "    return output\n",
    "\n",
    "weights = [0.3, 0.2, 0.9] \n",
    "\n",
    "def neural_network(input, weights):\n",
    "    prediction = ele_multiply(input, weights)\n",
    "    return prediction\n",
    "\n",
    "wlrec = [0.65, 0.8, 0.8, 0.9]\n",
    "input = wlrec[0]\n",
    "pred = neural_network(input,weights)\n",
    "\n",
    "print(pred)\n",
    "print([0.3*0.65, 0.2*0.65, 0.9*0.65])"
   ]
  },
  {
   "cell_type": "code",
   "execution_count": 10,
   "metadata": {},
   "outputs": [
    {
     "name": "stdout",
     "output_type": "stream",
     "text": [
      "[0.555, 0.9800000000000001, 0.9650000000000001]\n",
      "[0.555, 0.9800000000000001, 0.9650000000000001]\n"
     ]
    }
   ],
   "source": [
    "weights = [ [0.1, 0.1, -0.3], #hurt?\n",
    "            [0.1, 0.2, 0.0], #win?\n",
    "            [0.0, 1.3, 0.1] ] #sad?\n",
    "\n",
    "def weighted_sum(a,b):\n",
    "    assert(len(a) == len(b))\n",
    "    output = 0\n",
    "    for i in range(len(a)):\n",
    "        output += (a[i] * b[i])\n",
    "    return output\n",
    "\n",
    "def vector_matrix_multiply(vect, matrix):\n",
    "    assert(len(vect) == len(matrix))\n",
    "    output = [0,0,0]\n",
    "    for i in range(len(vect)):\n",
    "        output[i] = weighted_sum(vect, matrix[i])\n",
    "    return output\n",
    "\n",
    "def neural_network(input, weights):\n",
    "    prediction = vector_matrix_multiply(input, weights)\n",
    "    return prediction\n",
    "\n",
    "toes =  [8.5, 9.5, 9.9, 9.0]\n",
    "wlrec = [0.65,0.8, 0.8, 0.9]\n",
    "nfans = [1.2, 1.3, 0.5, 1.0]\n",
    "\n",
    "# Input corresponds to every entry\n",
    "# for the first game of the season.\n",
    "\n",
    "input = [toes[0],wlrec[0],nfans[0]]\n",
    "pred = neural_network(input, weights)\n",
    "\n",
    "print(pred)\n",
    "print([8.5*0.1+0.65*0.1+1.2*(-0.3), 8.5*0.1+0.65*0.2+1.2*0.0, 8.5*0.0+0.65*1.3+1.2*0.1])"
   ]
  },
  {
   "cell_type": "code",
   "execution_count": 14,
   "metadata": {},
   "outputs": [
    {
     "name": "stdout",
     "output_type": "stream",
     "text": [
      "[0.8600000000000001, 0.29499999999999993, 1.23]\n",
      "0.8600000000000001\n",
      "[0.21350000000000002, 0.14500000000000002, 0.5065]\n",
      "0.21350000000000002\n"
     ]
    }
   ],
   "source": [
    "ih_wgt = [ [0.1, 0.2, -0.1], #hid[0]\n",
    "           [-0.1,0.1, 0.9], #hid[1]\n",
    "           [0.1, 0.4, 0.1] ] #hid[2]\n",
    "\n",
    "           #hid[0] hid[1] hid[2]\n",
    "hp_wgt = [ [0.3, 1.1, -0.3], #hurt?\n",
    "           [0.1, 0.2, 0.0], #win?\n",
    "           [0.0, 1.3, 0.1] ] #sad?\n",
    "\n",
    "weights = [ih_wgt, hp_wgt]\n",
    "\n",
    "def neural_network(input, weights):\n",
    "    hid = vector_matrix_multiply(input, weights[0])\n",
    "    pred = vector_matrix_multiply(hid, weights[1])\n",
    "    return hid, pred\n",
    "\n",
    "toes =  [8.5, 9.5, 9.9, 9.0]\n",
    "wlrec = [0.65,0.8, 0.8, 0.9]\n",
    "nfans = [1.2, 1.3, 0.5, 1.0]\n",
    "\n",
    "# Input corresponds to every entry\n",
    "# for the first game of the season.\n",
    "\n",
    "input = [toes[0], wlrec[0], nfans[0]]\n",
    "hid, pred = neural_network(input, weights)\n",
    "\n",
    "print(hid)\n",
    "print(8.5*0.1+0.65*0.2+1.2*(-0.1))\n",
    "print(pred)\n",
    "print(0.86*0.3+0.295*1.1+1.23*(-0.3))"
   ]
  },
  {
   "cell_type": "code",
   "execution_count": 15,
   "metadata": {},
   "outputs": [
    {
     "name": "stdout",
     "output_type": "stream",
     "text": [
      "[0.2135 0.145  0.5065]\n"
     ]
    }
   ],
   "source": [
    "import numpy as np\n",
    "\n",
    "#toes %win #fans\n",
    "ih_wgt = np.array([ \n",
    "            [0.1, 0.2, -0.1], #hid[0]\n",
    "            [-0.1,0.1, 0.9], #hid[1]\n",
    "            [0.1, 0.4, 0.1]]).T #hid[2]\n",
    "\n",
    "\n",
    "# hid[0] hid[1] hid[2]\n",
    "hp_wgt = np.array([  \n",
    "            [0.3, 1.1, -0.3], #hurt?\n",
    "            [0.1, 0.2, 0.0], #win?\n",
    "            [0.0, 1.3, 0.1] ]).T #sad?\n",
    "\n",
    "weights = [ih_wgt, hp_wgt]\n",
    "\n",
    "def neural_network(input, weights):\n",
    "    # dot product\n",
    "    hid = input.dot(weights[0])\n",
    "    pred = hid.dot(weights[1])\n",
    "    return pred\n",
    "\n",
    "\n",
    "toes =  np.array([8.5, 9.5, 9.9, 9.0])\n",
    "wlrec = np.array([0.65,0.8, 0.8, 0.9])\n",
    "nfans = np.array([1.2, 1.3, 0.5, 1.0])\n",
    "\n",
    "input = np.array([toes[0],wlrec[0],nfans[0]])\n",
    "\n",
    "pred = neural_network(input,weights)\n",
    "print(pred)"
   ]
  }
 ],
 "metadata": {
  "kernelspec": {
   "display_name": "Python 3",
   "language": "python",
   "name": "python3"
  },
  "language_info": {
   "codemirror_mode": {
    "name": "ipython",
    "version": 3
   },
   "file_extension": ".py",
   "mimetype": "text/x-python",
   "name": "python",
   "nbconvert_exporter": "python",
   "pygments_lexer": "ipython3",
   "version": "3.7.6"
  }
 },
 "nbformat": 4,
 "nbformat_minor": 4
}
